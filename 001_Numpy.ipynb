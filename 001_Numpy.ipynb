{
 "cells": [
  {
   "cell_type": "code",
   "execution_count": 10,
   "id": "8f6d574c",
   "metadata": {},
   "outputs": [],
   "source": [
    "import numpy as np"
   ]
  },
  {
   "cell_type": "code",
   "execution_count": 11,
   "id": "e060cd58",
   "metadata": {},
   "outputs": [],
   "source": [
    "i = [1, 2, 3, 4, 5, 6]\n",
    "j = [2, 3, 4, 5, 6, 7]\n",
    "k = [7, 8, 9, 6, 5, 4]"
   ]
  },
  {
   "cell_type": "code",
   "execution_count": 12,
   "id": "16ef0855",
   "metadata": {},
   "outputs": [],
   "source": [
    "matrix = [i, j, k]"
   ]
  },
  {
   "cell_type": "code",
   "execution_count": 13,
   "id": "ae2da4d0",
   "metadata": {},
   "outputs": [
    {
     "name": "stdout",
     "output_type": "stream",
     "text": [
      "[[1, 2, 3, 4, 5, 6], [2, 3, 4, 5, 6, 7], [7, 8, 9, 6, 5, 4]]\n"
     ]
    }
   ],
   "source": [
    "print(matrix)"
   ]
  },
  {
   "cell_type": "code",
   "execution_count": 14,
   "id": "fb3bdf34",
   "metadata": {},
   "outputs": [
    {
     "name": "stdout",
     "output_type": "stream",
     "text": [
      "[[2, 3, 4, 5, 6, 7]]\n"
     ]
    }
   ],
   "source": [
    "print(matrix[1:2])"
   ]
  },
  {
   "cell_type": "code",
   "execution_count": 15,
   "id": "7bbec33d",
   "metadata": {},
   "outputs": [
    {
     "data": {
      "text/plain": [
       "[1, 2, 3, 4, 5, 6, 2, 3, 4, 5, 6, 7]"
      ]
     },
     "execution_count": 15,
     "metadata": {},
     "output_type": "execute_result"
    }
   ],
   "source": [
    "i + j"
   ]
  },
  {
   "cell_type": "code",
   "execution_count": 16,
   "id": "1fdcd850",
   "metadata": {},
   "outputs": [
    {
     "data": {
      "text/plain": [
       "array([1, 2, 3])"
      ]
     },
     "execution_count": 16,
     "metadata": {},
     "output_type": "execute_result"
    }
   ],
   "source": [
    "narr = np.array([1, 2, 3])\n",
    "narr"
   ]
  },
  {
   "cell_type": "code",
   "execution_count": 17,
   "id": "372b30ec",
   "metadata": {},
   "outputs": [
    {
     "data": {
      "text/plain": [
       "array([[1, 2, 3, 0],\n",
       "       [0, 0, 0, 0],\n",
       "       [0, 0, 0, 0],\n",
       "       [0, 0, 0, 0]])"
      ]
     },
     "execution_count": 17,
     "metadata": {},
     "output_type": "execute_result"
    }
   ],
   "source": [
    "narr.resize((4, 4), refcheck=False)\n",
    "narr"
   ]
  },
  {
   "cell_type": "code",
   "execution_count": 18,
   "id": "5b14b2f3",
   "metadata": {},
   "outputs": [
    {
     "name": "stdout",
     "output_type": "stream",
     "text": [
      "(4, 4)\n",
      "16\n",
      "2\n"
     ]
    }
   ],
   "source": [
    "print(narr.shape)\n",
    "print(narr.size)\n",
    "print(narr.ndim)"
   ]
  },
  {
   "cell_type": "code",
   "execution_count": 19,
   "id": "56ba8041",
   "metadata": {},
   "outputs": [
    {
     "data": {
      "text/plain": [
       "array([[0., 0., 0., 0.],\n",
       "       [0., 0., 0., 0.],\n",
       "       [0., 0., 0., 0.],\n",
       "       [0., 0., 0., 0.]])"
      ]
     },
     "execution_count": 19,
     "metadata": {},
     "output_type": "execute_result"
    }
   ],
   "source": [
    "mat = np.zeros((4, 4))\n",
    "mat"
   ]
  },
  {
   "cell_type": "code",
   "execution_count": 20,
   "id": "427b53d6",
   "metadata": {},
   "outputs": [
    {
     "data": {
      "text/plain": [
       "array([[1, 1, 1, 1],\n",
       "       [1, 1, 1, 1],\n",
       "       [1, 1, 1, 1],\n",
       "       [1, 1, 1, 1]])"
      ]
     },
     "execution_count": 20,
     "metadata": {},
     "output_type": "execute_result"
    }
   ],
   "source": [
    "mat = np.ones((4, 4), int)\n",
    "mat"
   ]
  },
  {
   "cell_type": "code",
   "execution_count": 21,
   "id": "b2d6a245",
   "metadata": {},
   "outputs": [
    {
     "data": {
      "text/plain": [
       "array([[1, 2, 3],\n",
       "       [9, 8, 7],\n",
       "       [6, 5, 4]])"
      ]
     },
     "execution_count": 21,
     "metadata": {},
     "output_type": "execute_result"
    }
   ],
   "source": [
    "mat = np.array(([1, 2, 3], [9, 8, 7], [6, 5, 4]))\n",
    "mat"
   ]
  },
  {
   "cell_type": "code",
   "execution_count": 22,
   "id": "f2529655",
   "metadata": {},
   "outputs": [
    {
     "data": {
      "text/plain": [
       "array([[ 1,  4,  9],\n",
       "       [81, 64, 49],\n",
       "       [36, 25, 16]])"
      ]
     },
     "execution_count": 22,
     "metadata": {},
     "output_type": "execute_result"
    }
   ],
   "source": [
    "reshaped_mat = mat.reshape(1, mat.size) ** 2\n",
    "reshaped_mat.reshape(3, 3)"
   ]
  },
  {
   "cell_type": "code",
   "execution_count": 23,
   "id": "f8b6c8f3",
   "metadata": {},
   "outputs": [
    {
     "data": {
      "text/plain": [
       "array([-1, -1, -1, -1, -1, -1])"
      ]
     },
     "execution_count": 23,
     "metadata": {},
     "output_type": "execute_result"
    }
   ],
   "source": [
    "np.array(i) - np.array(j)"
   ]
  },
  {
   "cell_type": "code",
   "execution_count": 24,
   "id": "9ea72690",
   "metadata": {},
   "outputs": [
    {
     "data": {
      "text/plain": [
       "array([[ 34.49  ,  24.35  ,  51.8   ,  15.1025,  35.2   ,  40.25  ],\n",
       "       [ 82.44  ,  53.2   , 128.72  ,  35.2   ,  84.49  ,  96.2   ],\n",
       "       [ 94.2   ,  61.1   , 146.6   ,  40.25  ,  96.2   , 110.    ],\n",
       "       [ 80.68  ,  52.4   , 125.52  ,  34.49  ,  82.44  ,  94.2   ],\n",
       "       [ 52.4   ,  44.69  ,  71.3   ,  24.35  ,  53.2   ,  61.1   ],\n",
       "       [125.52  ,  71.3   , 205.16  ,  51.8   , 128.72  , 146.6   ]])"
      ]
     },
     "execution_count": 24,
     "metadata": {},
     "output_type": "execute_result"
    }
   ],
   "source": [
    "mat1 = np.array(([1.45, 2, 3], [4, 5.7, 6], [5, 6, 7], [4.2, 5.2, 6], [1, 2, 6.3], [8, 9.6, 7]))\n",
    "mat2 = np.array(([4.2, 5.2, 6], [1, 2, 6.3], [8, 9.6, 7], [1.45, 2, 3], [4, 5.7, 6], [5, 6, 7]))\n",
    "mat = mat1.dot(mat2.T).astype('float64')\n",
    "mat"
   ]
  },
  {
   "cell_type": "code",
   "execution_count": 25,
   "id": "a5971203",
   "metadata": {},
   "outputs": [
    {
     "data": {
      "text/plain": [
       "32"
      ]
     },
     "execution_count": 25,
     "metadata": {},
     "output_type": "execute_result"
    }
   ],
   "source": [
    "mat.argmax()"
   ]
  },
  {
   "cell_type": "code",
   "execution_count": 26,
   "id": "221ce7af",
   "metadata": {},
   "outputs": [
    {
     "data": {
      "text/plain": [
       "array([0, 1, 2, 3, 4, 5, 6, 7, 8, 9])"
      ]
     },
     "execution_count": 26,
     "metadata": {},
     "output_type": "execute_result"
    }
   ],
   "source": [
    "np.arange(10)"
   ]
  },
  {
   "cell_type": "code",
   "execution_count": 27,
   "id": "cf13efb7",
   "metadata": {},
   "outputs": [
    {
     "data": {
      "text/plain": [
       "numpy.float64"
      ]
     },
     "execution_count": 27,
     "metadata": {},
     "output_type": "execute_result"
    }
   ],
   "source": [
    "type(mat[-1][0])"
   ]
  },
  {
   "cell_type": "code",
   "execution_count": 28,
   "id": "533e5d74",
   "metadata": {},
   "outputs": [
    {
     "data": {
      "text/plain": [
       "146.6"
      ]
     },
     "execution_count": 28,
     "metadata": {},
     "output_type": "execute_result"
    }
   ],
   "source": [
    "mat[-3:, -3:][-1][-1]"
   ]
  },
  {
   "cell_type": "code",
   "execution_count": 29,
   "id": "285fff26",
   "metadata": {},
   "outputs": [
    {
     "data": {
      "text/plain": [
       "array([[False, False, False, False, False, False],\n",
       "       [False, False,  True, False, False, False],\n",
       "       [False, False,  True, False, False,  True],\n",
       "       [False, False,  True, False, False, False],\n",
       "       [False, False, False, False, False, False],\n",
       "       [ True, False,  True, False,  True,  True]])"
      ]
     },
     "execution_count": 29,
     "metadata": {},
     "output_type": "execute_result"
    }
   ],
   "source": [
    "mat >= 100"
   ]
  },
  {
   "cell_type": "code",
   "execution_count": 30,
   "id": "6f65d850",
   "metadata": {},
   "outputs": [
    {
     "data": {
      "text/plain": [
       "array([128.72, 146.6 , 110.  , 125.52, 125.52, 205.16, 128.72, 146.6 ])"
      ]
     },
     "execution_count": 30,
     "metadata": {},
     "output_type": "execute_result"
    }
   ],
   "source": [
    "mat[mat >= 100]"
   ]
  },
  {
   "cell_type": "code",
   "execution_count": 31,
   "id": "9aa20614",
   "metadata": {},
   "outputs": [],
   "source": [
    "import time"
   ]
  },
  {
   "cell_type": "code",
   "execution_count": 32,
   "id": "68c6f885",
   "metadata": {},
   "outputs": [],
   "source": [
    "def pure_python():\n",
    "    t1 = time.time()\n",
    "    x = range(100000000)\n",
    "    y = range(100000000)\n",
    "    z = list()\n",
    "    for i in range(len(x)):\n",
    "        z.append(x[i] + y[i])\n",
    "    t2 = time.time()\n",
    "    return t2 - t1"
   ]
  },
  {
   "cell_type": "code",
   "execution_count": 33,
   "id": "48b655f6",
   "metadata": {},
   "outputs": [
    {
     "data": {
      "text/plain": [
       "23.350624561309814"
      ]
     },
     "execution_count": 33,
     "metadata": {},
     "output_type": "execute_result"
    }
   ],
   "source": [
    "pure_python()"
   ]
  },
  {
   "cell_type": "code",
   "execution_count": 34,
   "id": "3fd1a55c",
   "metadata": {},
   "outputs": [],
   "source": [
    "def numpy_python():\n",
    "    t1 = time.time()\n",
    "    x = np.arange(100000000)\n",
    "    y = np.arange(100000000)\n",
    "    z = x + y\n",
    "    t2 = time.time()\n",
    "    return t2 - t1"
   ]
  },
  {
   "cell_type": "code",
   "execution_count": 35,
   "id": "ac372336",
   "metadata": {},
   "outputs": [
    {
     "data": {
      "text/plain": [
       "0.5756211280822754"
      ]
     },
     "execution_count": 35,
     "metadata": {},
     "output_type": "execute_result"
    }
   ],
   "source": [
    "numpy_python()"
   ]
  },
  {
   "cell_type": "code",
   "execution_count": null,
   "id": "2b8ae2f8",
   "metadata": {},
   "outputs": [],
   "source": []
  }
 ],
 "metadata": {
  "kernelspec": {
   "display_name": "Python 3 (ipykernel)",
   "language": "python",
   "name": "python3"
  },
  "language_info": {
   "codemirror_mode": {
    "name": "ipython",
    "version": 3
   },
   "file_extension": ".py",
   "mimetype": "text/x-python",
   "name": "python",
   "nbconvert_exporter": "python",
   "pygments_lexer": "ipython3",
   "version": "3.9.5"
  }
 },
 "nbformat": 4,
 "nbformat_minor": 5
}
